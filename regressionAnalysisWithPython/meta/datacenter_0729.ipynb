{
 "cells": [
  {
   "cell_type": "code",
   "execution_count": 1,
   "metadata": {},
   "outputs": [],
   "source": [
    "import numpy as np\n",
    "import pandas as pd\n",
    "import matplotlib.pyplot as plt\n",
    "from sklearn.datasets import load_boston\n",
    "from sklearn import linear_model\n",
    "%matplotlib inline\n",
    "np.set_printoptions(precision=5, suppress=True)"
   ]
  },
  {
   "cell_type": "code",
   "execution_count": 3,
   "metadata": {},
   "outputs": [],
   "source": [
    "# ix -> iloc\n",
    "boston = load_boston()\n",
    "dataset = pd.DataFrame(boston.data, columns=boston.feature_names)\n",
    "dataset['target'] = boston.target\n",
    "observations = len(dataset)\n",
    "variables = dataset.columns[:-1]\n",
    "X = dataset.iloc[:,:-1]\n",
    "y = dataset['target'].values"
   ]
  },
  {
   "cell_type": "code",
   "execution_count": 17,
   "metadata": {},
   "outputs": [],
   "source": [
    "yq = np.array(y>25, dtype=int)"
   ]
  },
  {
   "cell_type": "code",
   "execution_count": 10,
   "metadata": {},
   "outputs": [
    {
     "name": "stdout",
     "output_type": "stream",
     "text": [
      "coefficients : [ -0.10801   0.04642   0.02056   2.68673 -17.76661   3.80987   0.00069\n",
      "  -1.47557   0.30605  -0.01233  -0.95275   0.00931  -0.52476]\n",
      "intercept : 36.459\n"
     ]
    }
   ],
   "source": [
    "from sklearn.preprocessing import StandardScaler\n",
    "from sklearn.preprocessing import MinMaxScaler\n",
    "linear_regression = linear_model.LinearRegression(normalize=False,\n",
    "                                                 fit_intercept=True)\n",
    "linear_regression.fit(X,y)\n",
    "print(\"coefficients : %s\\nintercept : %0.3f\"\n",
    "      %(linear_regression.coef_,linear_regression.intercept_))"
   ]
  },
  {
   "cell_type": "code",
   "execution_count": 11,
   "metadata": {},
   "outputs": [
    {
     "name": "stdout",
     "output_type": "stream",
     "text": [
      "coefficients : [ -0.10801   0.04642   0.02056   2.68673 -17.76661   3.80987   0.00069\n",
      "  -1.47557   0.30605  -0.01233  -0.95275   0.00931  -0.52476]\n",
      "intercept : 22.533\n"
     ]
    }
   ],
   "source": [
    "centering = StandardScaler(with_mean=True, with_std=False)\n",
    "linear_regression.fit(centering.fit_transform(X),y)\n",
    "print(\"coefficients : %s\\nintercept : %0.3f\"\n",
    "      %(linear_regression.coef_,linear_regression.intercept_))"
   ]
  },
  {
   "cell_type": "code",
   "execution_count": 13,
   "metadata": {},
   "outputs": [
    {
     "name": "stdout",
     "output_type": "stream",
     "text": [
      "mean : 22.533\n"
     ]
    }
   ],
   "source": [
    "print('mean : %0.3f'%np.mean(y))"
   ]
  },
  {
   "cell_type": "markdown",
   "metadata": {},
   "source": [
    "# Page 192"
   ]
  },
  {
   "cell_type": "code",
   "execution_count": 14,
   "metadata": {},
   "outputs": [
    {
     "name": "stdout",
     "output_type": "stream",
     "text": [
      "coefficients : [-0.92815  1.08157  0.1409   0.68174 -2.05672  2.67423  0.01947 -3.10404\n",
      "  2.66222 -2.07678 -2.06061  0.84927 -3.74363]\n",
      "intercept : 22.533\n"
     ]
    }
   ],
   "source": [
    "standardization = StandardScaler(with_mean=True, with_std=True)\n",
    "linear_regression.fit(standardization.fit_transform(X),y)\n",
    "print(\"coefficients : %s\\nintercept : %0.3f\"\n",
    "      %(linear_regression.coef_,linear_regression.intercept_))"
   ]
  },
  {
   "cell_type": "code",
   "execution_count": 15,
   "metadata": {},
   "outputs": [
    {
     "name": "stdout",
     "output_type": "stream",
     "text": [
      "coefficients : [ -9.60976   4.64205   0.56084   2.68673  -8.63457  19.88369   0.06722\n",
      " -16.22666   7.03914  -6.46333  -8.95582   3.69283 -19.01724]\n",
      "intercept : 26.620\n"
     ]
    }
   ],
   "source": [
    "scaling = MinMaxScaler(feature_range=(0,1))\n",
    "linear_regression.fit(scaling.fit_transform(X),y)\n",
    "print(\"coefficients : %s\\nintercept : %0.3f\"\n",
    "      %(linear_regression.coef_,linear_regression.intercept_))"
   ]
  },
  {
   "cell_type": "code",
   "execution_count": 18,
   "metadata": {},
   "outputs": [
    {
     "name": "stdout",
     "output_type": "stream",
     "text": [
      "Optimization terminated successfully.\n",
      "         Current function value: 0.206631\n",
      "         Iterations 9\n",
      "                           Logit Regression Results                           \n",
      "==============================================================================\n",
      "Dep. Variable:                      y   No. Observations:                  506\n",
      "Model:                          Logit   Df Residuals:                      492\n",
      "Method:                           MLE   Df Model:                           13\n",
      "Date:                Wed, 29 Jul 2020   Pseudo R-squ.:                  0.6289\n",
      "Time:                        01:33:22   Log-Likelihood:                -104.56\n",
      "converged:                       True   LL-Null:                       -281.76\n",
      "Covariance Type:            nonrobust   LLR p-value:                 9.145e-68\n",
      "==============================================================================\n",
      "                 coef    std err          z      P>|z|      [0.025      0.975]\n",
      "------------------------------------------------------------------------------\n",
      "const         -3.0542      0.356     -8.571      0.000      -3.753      -2.356\n",
      "x1            -0.0954      0.390     -0.245      0.807      -0.859       0.668\n",
      "x2             0.2544      0.252      1.008      0.314      -0.240       0.749\n",
      "x3            -0.7570      0.403     -1.880      0.060      -1.546       0.032\n",
      "x4             0.2452      0.205      1.195      0.232      -0.157       0.648\n",
      "x5            -0.7923      0.519     -1.527      0.127      -1.810       0.225\n",
      "x6             1.3244      0.318      4.168      0.000       0.702       1.947\n",
      "x7             0.0982      0.313      0.314      0.754      -0.515       0.712\n",
      "x8            -1.2391      0.345     -3.591      0.000      -1.915      -0.563\n",
      "x9             2.7665      0.719      3.849      0.000       1.358       4.175\n",
      "x10           -1.8228      0.680     -2.682      0.007      -3.155      -0.491\n",
      "x11           -0.7635      0.264     -2.887      0.004      -1.282      -0.245\n",
      "x12           -0.2065      0.349     -0.592      0.554      -0.891       0.478\n",
      "x13           -2.6207      0.521     -5.031      0.000      -3.642      -1.600\n",
      "==============================================================================\n"
     ]
    }
   ],
   "source": [
    "import statsmodels.api as sm\n",
    "Xq = sm.add_constant(standardization.fit_transform(X))\n",
    "logit = sm.Logit(yq,Xq)\n",
    "result = logit.fit()\n",
    "print(result.summary())"
   ]
  },
  {
   "cell_type": "code",
   "execution_count": 19,
   "metadata": {},
   "outputs": [
    {
     "name": "stdout",
     "output_type": "stream",
     "text": [
      "odd ratios of coefficients : [ 0.04716  0.90902  1.28964  0.46908  1.27788  0.45278  3.76007  1.10314\n",
      "  0.28965 15.90341  0.16158  0.46603  0.81345  0.07275]\n"
     ]
    }
   ],
   "source": [
    "print('odd ratios of coefficients : %s' % np.exp(result.params))"
   ]
  },
  {
   "cell_type": "code",
   "execution_count": 26,
   "metadata": {
    "scrolled": true
   },
   "outputs": [
    {
     "name": "stdout",
     "output_type": "stream",
     "text": [
      "intercept : -3.054\n",
      "probability of value above 25 when all predictors are \n",
      "average : 0.045\n"
     ]
    }
   ],
   "source": [
    "def sigmoid(p) : \n",
    "    return 1/(1+np.exp(-p))\n",
    "\n",
    "print('intercept : %0.3f' %result.params[0])\n",
    "print('probability of value above 25 when all predictors are \\n\\\n",
    "average : %0.3f' % sigmoid(result.params[0]))"
   ]
  },
  {
   "cell_type": "code",
   "execution_count": 27,
   "metadata": {},
   "outputs": [
    {
     "name": "stdout",
     "output_type": "stream",
     "text": [
      "average likelihood of positive response : 0.245\n"
     ]
    }
   ],
   "source": [
    "print('average likelihood of positive response : %0.3f'\n",
    "      % (sum(yq) / float(len(yq))))"
   ]
  },
  {
   "cell_type": "code",
   "execution_count": 28,
   "metadata": {
    "scrolled": true
   },
   "outputs": [
    {
     "name": "stdout",
     "output_type": "stream",
     "text": [
      "Optimization terminated successfully.\n",
      "         Current function value: 0.556842\n",
      "         Iterations 5\n",
      "                           Logit Regression Results                           \n",
      "==============================================================================\n",
      "Dep. Variable:                      y   No. Observations:                  506\n",
      "Model:                          Logit   Df Residuals:                      505\n",
      "Method:                           MLE   Df Model:                            0\n",
      "Date:                Wed, 29 Jul 2020   Pseudo R-squ.:               3.276e-11\n",
      "Time:                        01:38:06   Log-Likelihood:                -281.76\n",
      "converged:                       True   LL-Null:                       -281.76\n",
      "Covariance Type:            nonrobust   LLR p-value:                       nan\n",
      "==============================================================================\n",
      "                 coef    std err          z      P>|z|      [0.025      0.975]\n",
      "------------------------------------------------------------------------------\n",
      "const         -1.1251      0.103    -10.886      0.000      -1.328      -0.923\n",
      "==============================================================================\n",
      "\n",
      " probability of value above 25 using just a \n",
      "constant : 0.245\n"
     ]
    }
   ],
   "source": [
    "C = np.ones(len(X))\n",
    "logit = sm.Logit(yq,C)\n",
    "result = logit.fit()\n",
    "print(result.summary())\n",
    "print('\\n probability of value above 25 using just a \\n\\\n",
    "constant : %0.3f' %sigmoid(result.params[0]))"
   ]
  },
  {
   "cell_type": "markdown",
   "metadata": {},
   "source": [
    "# Page 197"
   ]
  },
  {
   "cell_type": "code",
   "execution_count": 45,
   "metadata": {},
   "outputs": [],
   "source": [
    "outlook = ['sunny', 'overcast', 'rainy']\n",
    "temperature = ['hot', 'mild', 'cool']\n",
    "humidity = ['high', 'normal']\n",
    "windy = ['TRUE', 'FALSE']\n",
    "\n",
    "weather_dataset = list()\n",
    "\n",
    "for o in outlook : \n",
    "    for t in temperature : \n",
    "        for h in humidity : \n",
    "            for w in windy : \n",
    "                weather_dataset.append([o,t,h,w])\n",
    "                \n",
    "play = [0,0,1,1,1,0,1,1,0,0,0,1,1,1,1,1,1,1,1,1,0,0,1,1,0,0,0,1,0,1,0,1,0,0,0,1]"
   ]
  },
  {
   "cell_type": "code",
   "execution_count": 46,
   "metadata": {},
   "outputs": [
    {
     "data": {
      "text/html": [
       "<div>\n",
       "<style scoped>\n",
       "    .dataframe tbody tr th:only-of-type {\n",
       "        vertical-align: middle;\n",
       "    }\n",
       "\n",
       "    .dataframe tbody tr th {\n",
       "        vertical-align: top;\n",
       "    }\n",
       "\n",
       "    .dataframe thead th {\n",
       "        text-align: right;\n",
       "    }\n",
       "</style>\n",
       "<table border=\"1\" class=\"dataframe\">\n",
       "  <thead>\n",
       "    <tr style=\"text-align: right;\">\n",
       "      <th></th>\n",
       "      <th>outlook</th>\n",
       "      <th>temperature</th>\n",
       "      <th>humidity</th>\n",
       "      <th>windy</th>\n",
       "    </tr>\n",
       "  </thead>\n",
       "  <tbody>\n",
       "    <tr>\n",
       "      <th>0</th>\n",
       "      <td>sunny</td>\n",
       "      <td>hot</td>\n",
       "      <td>high</td>\n",
       "      <td>TRUE</td>\n",
       "    </tr>\n",
       "    <tr>\n",
       "      <th>1</th>\n",
       "      <td>sunny</td>\n",
       "      <td>hot</td>\n",
       "      <td>high</td>\n",
       "      <td>FALSE</td>\n",
       "    </tr>\n",
       "    <tr>\n",
       "      <th>2</th>\n",
       "      <td>sunny</td>\n",
       "      <td>hot</td>\n",
       "      <td>normal</td>\n",
       "      <td>TRUE</td>\n",
       "    </tr>\n",
       "    <tr>\n",
       "      <th>3</th>\n",
       "      <td>sunny</td>\n",
       "      <td>hot</td>\n",
       "      <td>normal</td>\n",
       "      <td>FALSE</td>\n",
       "    </tr>\n",
       "    <tr>\n",
       "      <th>4</th>\n",
       "      <td>sunny</td>\n",
       "      <td>mild</td>\n",
       "      <td>high</td>\n",
       "      <td>TRUE</td>\n",
       "    </tr>\n",
       "    <tr>\n",
       "      <th>5</th>\n",
       "      <td>sunny</td>\n",
       "      <td>mild</td>\n",
       "      <td>high</td>\n",
       "      <td>FALSE</td>\n",
       "    </tr>\n",
       "    <tr>\n",
       "      <th>6</th>\n",
       "      <td>sunny</td>\n",
       "      <td>mild</td>\n",
       "      <td>normal</td>\n",
       "      <td>TRUE</td>\n",
       "    </tr>\n",
       "    <tr>\n",
       "      <th>7</th>\n",
       "      <td>sunny</td>\n",
       "      <td>mild</td>\n",
       "      <td>normal</td>\n",
       "      <td>FALSE</td>\n",
       "    </tr>\n",
       "    <tr>\n",
       "      <th>8</th>\n",
       "      <td>sunny</td>\n",
       "      <td>cool</td>\n",
       "      <td>high</td>\n",
       "      <td>TRUE</td>\n",
       "    </tr>\n",
       "    <tr>\n",
       "      <th>9</th>\n",
       "      <td>sunny</td>\n",
       "      <td>cool</td>\n",
       "      <td>high</td>\n",
       "      <td>FALSE</td>\n",
       "    </tr>\n",
       "    <tr>\n",
       "      <th>10</th>\n",
       "      <td>sunny</td>\n",
       "      <td>cool</td>\n",
       "      <td>normal</td>\n",
       "      <td>TRUE</td>\n",
       "    </tr>\n",
       "    <tr>\n",
       "      <th>11</th>\n",
       "      <td>sunny</td>\n",
       "      <td>cool</td>\n",
       "      <td>normal</td>\n",
       "      <td>FALSE</td>\n",
       "    </tr>\n",
       "    <tr>\n",
       "      <th>12</th>\n",
       "      <td>overcast</td>\n",
       "      <td>hot</td>\n",
       "      <td>high</td>\n",
       "      <td>TRUE</td>\n",
       "    </tr>\n",
       "    <tr>\n",
       "      <th>13</th>\n",
       "      <td>overcast</td>\n",
       "      <td>hot</td>\n",
       "      <td>high</td>\n",
       "      <td>FALSE</td>\n",
       "    </tr>\n",
       "    <tr>\n",
       "      <th>14</th>\n",
       "      <td>overcast</td>\n",
       "      <td>hot</td>\n",
       "      <td>normal</td>\n",
       "      <td>TRUE</td>\n",
       "    </tr>\n",
       "    <tr>\n",
       "      <th>15</th>\n",
       "      <td>overcast</td>\n",
       "      <td>hot</td>\n",
       "      <td>normal</td>\n",
       "      <td>FALSE</td>\n",
       "    </tr>\n",
       "    <tr>\n",
       "      <th>16</th>\n",
       "      <td>overcast</td>\n",
       "      <td>mild</td>\n",
       "      <td>high</td>\n",
       "      <td>TRUE</td>\n",
       "    </tr>\n",
       "    <tr>\n",
       "      <th>17</th>\n",
       "      <td>overcast</td>\n",
       "      <td>mild</td>\n",
       "      <td>high</td>\n",
       "      <td>FALSE</td>\n",
       "    </tr>\n",
       "    <tr>\n",
       "      <th>18</th>\n",
       "      <td>overcast</td>\n",
       "      <td>mild</td>\n",
       "      <td>normal</td>\n",
       "      <td>TRUE</td>\n",
       "    </tr>\n",
       "    <tr>\n",
       "      <th>19</th>\n",
       "      <td>overcast</td>\n",
       "      <td>mild</td>\n",
       "      <td>normal</td>\n",
       "      <td>FALSE</td>\n",
       "    </tr>\n",
       "    <tr>\n",
       "      <th>20</th>\n",
       "      <td>overcast</td>\n",
       "      <td>cool</td>\n",
       "      <td>high</td>\n",
       "      <td>TRUE</td>\n",
       "    </tr>\n",
       "    <tr>\n",
       "      <th>21</th>\n",
       "      <td>overcast</td>\n",
       "      <td>cool</td>\n",
       "      <td>high</td>\n",
       "      <td>FALSE</td>\n",
       "    </tr>\n",
       "    <tr>\n",
       "      <th>22</th>\n",
       "      <td>overcast</td>\n",
       "      <td>cool</td>\n",
       "      <td>normal</td>\n",
       "      <td>TRUE</td>\n",
       "    </tr>\n",
       "    <tr>\n",
       "      <th>23</th>\n",
       "      <td>overcast</td>\n",
       "      <td>cool</td>\n",
       "      <td>normal</td>\n",
       "      <td>FALSE</td>\n",
       "    </tr>\n",
       "    <tr>\n",
       "      <th>24</th>\n",
       "      <td>rainy</td>\n",
       "      <td>hot</td>\n",
       "      <td>high</td>\n",
       "      <td>TRUE</td>\n",
       "    </tr>\n",
       "    <tr>\n",
       "      <th>25</th>\n",
       "      <td>rainy</td>\n",
       "      <td>hot</td>\n",
       "      <td>high</td>\n",
       "      <td>FALSE</td>\n",
       "    </tr>\n",
       "    <tr>\n",
       "      <th>26</th>\n",
       "      <td>rainy</td>\n",
       "      <td>hot</td>\n",
       "      <td>normal</td>\n",
       "      <td>TRUE</td>\n",
       "    </tr>\n",
       "    <tr>\n",
       "      <th>27</th>\n",
       "      <td>rainy</td>\n",
       "      <td>hot</td>\n",
       "      <td>normal</td>\n",
       "      <td>FALSE</td>\n",
       "    </tr>\n",
       "    <tr>\n",
       "      <th>28</th>\n",
       "      <td>rainy</td>\n",
       "      <td>mild</td>\n",
       "      <td>high</td>\n",
       "      <td>TRUE</td>\n",
       "    </tr>\n",
       "    <tr>\n",
       "      <th>29</th>\n",
       "      <td>rainy</td>\n",
       "      <td>mild</td>\n",
       "      <td>high</td>\n",
       "      <td>FALSE</td>\n",
       "    </tr>\n",
       "    <tr>\n",
       "      <th>30</th>\n",
       "      <td>rainy</td>\n",
       "      <td>mild</td>\n",
       "      <td>normal</td>\n",
       "      <td>TRUE</td>\n",
       "    </tr>\n",
       "    <tr>\n",
       "      <th>31</th>\n",
       "      <td>rainy</td>\n",
       "      <td>mild</td>\n",
       "      <td>normal</td>\n",
       "      <td>FALSE</td>\n",
       "    </tr>\n",
       "    <tr>\n",
       "      <th>32</th>\n",
       "      <td>rainy</td>\n",
       "      <td>cool</td>\n",
       "      <td>high</td>\n",
       "      <td>TRUE</td>\n",
       "    </tr>\n",
       "    <tr>\n",
       "      <th>33</th>\n",
       "      <td>rainy</td>\n",
       "      <td>cool</td>\n",
       "      <td>high</td>\n",
       "      <td>FALSE</td>\n",
       "    </tr>\n",
       "    <tr>\n",
       "      <th>34</th>\n",
       "      <td>rainy</td>\n",
       "      <td>cool</td>\n",
       "      <td>normal</td>\n",
       "      <td>TRUE</td>\n",
       "    </tr>\n",
       "    <tr>\n",
       "      <th>35</th>\n",
       "      <td>rainy</td>\n",
       "      <td>cool</td>\n",
       "      <td>normal</td>\n",
       "      <td>FALSE</td>\n",
       "    </tr>\n",
       "  </tbody>\n",
       "</table>\n",
       "</div>"
      ],
      "text/plain": [
       "     outlook temperature humidity  windy\n",
       "0      sunny         hot     high   TRUE\n",
       "1      sunny         hot     high  FALSE\n",
       "2      sunny         hot   normal   TRUE\n",
       "3      sunny         hot   normal  FALSE\n",
       "4      sunny        mild     high   TRUE\n",
       "5      sunny        mild     high  FALSE\n",
       "6      sunny        mild   normal   TRUE\n",
       "7      sunny        mild   normal  FALSE\n",
       "8      sunny        cool     high   TRUE\n",
       "9      sunny        cool     high  FALSE\n",
       "10     sunny        cool   normal   TRUE\n",
       "11     sunny        cool   normal  FALSE\n",
       "12  overcast         hot     high   TRUE\n",
       "13  overcast         hot     high  FALSE\n",
       "14  overcast         hot   normal   TRUE\n",
       "15  overcast         hot   normal  FALSE\n",
       "16  overcast        mild     high   TRUE\n",
       "17  overcast        mild     high  FALSE\n",
       "18  overcast        mild   normal   TRUE\n",
       "19  overcast        mild   normal  FALSE\n",
       "20  overcast        cool     high   TRUE\n",
       "21  overcast        cool     high  FALSE\n",
       "22  overcast        cool   normal   TRUE\n",
       "23  overcast        cool   normal  FALSE\n",
       "24     rainy         hot     high   TRUE\n",
       "25     rainy         hot     high  FALSE\n",
       "26     rainy         hot   normal   TRUE\n",
       "27     rainy         hot   normal  FALSE\n",
       "28     rainy        mild     high   TRUE\n",
       "29     rainy        mild     high  FALSE\n",
       "30     rainy        mild   normal   TRUE\n",
       "31     rainy        mild   normal  FALSE\n",
       "32     rainy        cool     high   TRUE\n",
       "33     rainy        cool     high  FALSE\n",
       "34     rainy        cool   normal   TRUE\n",
       "35     rainy        cool   normal  FALSE"
      ]
     },
     "execution_count": 46,
     "metadata": {},
     "output_type": "execute_result"
    }
   ],
   "source": [
    "import pandas as pd\n",
    "df = pd.DataFrame(weather_dataset, columns=['outlook', 'temperature', 'humidity', 'windy'])\n",
    "df"
   ]
  },
  {
   "cell_type": "code",
   "execution_count": 47,
   "metadata": {},
   "outputs": [
    {
     "data": {
      "text/html": [
       "<div>\n",
       "<style scoped>\n",
       "    .dataframe tbody tr th:only-of-type {\n",
       "        vertical-align: middle;\n",
       "    }\n",
       "\n",
       "    .dataframe tbody tr th {\n",
       "        vertical-align: top;\n",
       "    }\n",
       "\n",
       "    .dataframe thead th {\n",
       "        text-align: right;\n",
       "    }\n",
       "</style>\n",
       "<table border=\"1\" class=\"dataframe\">\n",
       "  <thead>\n",
       "    <tr style=\"text-align: right;\">\n",
       "      <th></th>\n",
       "      <th>high</th>\n",
       "      <th>normal</th>\n",
       "    </tr>\n",
       "  </thead>\n",
       "  <tbody>\n",
       "    <tr>\n",
       "      <th>0</th>\n",
       "      <td>1</td>\n",
       "      <td>0</td>\n",
       "    </tr>\n",
       "    <tr>\n",
       "      <th>1</th>\n",
       "      <td>1</td>\n",
       "      <td>0</td>\n",
       "    </tr>\n",
       "    <tr>\n",
       "      <th>2</th>\n",
       "      <td>0</td>\n",
       "      <td>1</td>\n",
       "    </tr>\n",
       "    <tr>\n",
       "      <th>3</th>\n",
       "      <td>0</td>\n",
       "      <td>1</td>\n",
       "    </tr>\n",
       "    <tr>\n",
       "      <th>4</th>\n",
       "      <td>1</td>\n",
       "      <td>0</td>\n",
       "    </tr>\n",
       "  </tbody>\n",
       "</table>\n",
       "</div>"
      ],
      "text/plain": [
       "   high  normal\n",
       "0     1       0\n",
       "1     1       0\n",
       "2     0       1\n",
       "3     0       1\n",
       "4     1       0"
      ]
     },
     "execution_count": 47,
     "metadata": {},
     "output_type": "execute_result"
    }
   ],
   "source": [
    "pd.get_dummies(df.humidity).iloc[:5,:]"
   ]
  },
  {
   "cell_type": "code",
   "execution_count": 48,
   "metadata": {},
   "outputs": [],
   "source": [
    "dummy_encoding = pd.get_dummies(df)"
   ]
  },
  {
   "cell_type": "code",
   "execution_count": 49,
   "metadata": {},
   "outputs": [
    {
     "name": "stdout",
     "output_type": "stream",
     "text": [
      "Optimization terminated successfully.\n",
      "         Current function value: 0.292346\n",
      "         Iterations 28\n",
      "                           Logit Regression Results                           \n",
      "==============================================================================\n",
      "Dep. Variable:                      y   No. Observations:                   36\n",
      "Model:                          Logit   Df Residuals:                       29\n",
      "Method:                           MLE   Df Model:                            6\n",
      "Date:                Wed, 29 Jul 2020   Pseudo R-squ.:                  0.5744\n",
      "Time:                        01:50:16   Log-Likelihood:                -10.524\n",
      "converged:                       True   LL-Null:                       -24.731\n",
      "Covariance Type:            nonrobust   LLR p-value:                 7.856e-05\n",
      "====================================================================================\n",
      "                       coef    std err          z      P>|z|      [0.025      0.975]\n",
      "------------------------------------------------------------------------------------\n",
      "const                0.2393    4.3e+07   5.57e-09      1.000   -8.42e+07    8.42e+07\n",
      "outlook_overcast     2.9833   5.09e+07   5.86e-08      1.000   -9.98e+07    9.98e+07\n",
      "outlook_rainy       -2.1746   5.04e+07  -4.31e-08      1.000   -9.88e+07    9.88e+07\n",
      "outlook_sunny       -0.5695   4.99e+07  -1.14e-08      1.000   -9.77e+07    9.77e+07\n",
      "temperature_cool    -2.1996   4.66e+07  -4.72e-08      1.000   -9.13e+07    9.13e+07\n",
      "temperature_hot      0.3045   4.65e+07   6.54e-09      1.000   -9.12e+07    9.12e+07\n",
      "temperature_mild     2.1344   4.67e+07   4.57e-08      1.000   -9.15e+07    9.15e+07\n",
      "humidity_high       -2.0459   6.08e+06  -3.36e-07      1.000   -1.19e+07    1.19e+07\n",
      "humidity_normal      2.2851   6.63e+06   3.45e-07      1.000    -1.3e+07     1.3e+07\n",
      "windy_FALSE          1.3162        nan        nan        nan         nan         nan\n",
      "windy_TRUE          -1.0770        nan        nan        nan         nan         nan\n",
      "====================================================================================\n"
     ]
    },
    {
     "name": "stderr",
     "output_type": "stream",
     "text": [
      "C:\\Users\\seong\\Anaconda3\\envs\\datacenter\\lib\\site-packages\\statsmodels\\base\\model.py:1354: RuntimeWarning: invalid value encountered in sqrt\n",
      "  bse_ = np.sqrt(np.diag(self.cov_params()))\n",
      "C:\\Users\\seong\\Anaconda3\\envs\\datacenter\\lib\\site-packages\\scipy\\stats\\_distn_infrastructure.py:1932: RuntimeWarning: invalid value encountered in less_equal\n",
      "  cond2 = cond0 & (x <= _a)\n"
     ]
    }
   ],
   "source": [
    "import statsmodels.api as sm\n",
    "X = sm.add_constant(dummy_encoding)\n",
    "logit = sm.Logit(play, X)\n",
    "result = logit.fit()\n",
    "print(result.summary())"
   ]
  },
  {
   "cell_type": "code",
   "execution_count": 50,
   "metadata": {},
   "outputs": [
    {
     "name": "stdout",
     "output_type": "stream",
     "text": [
      "Optimization terminated successfully.\n",
      "         Current function value: 0.292346\n",
      "         Iterations 8\n",
      "                           Logit Regression Results                           \n",
      "==============================================================================\n",
      "Dep. Variable:                      y   No. Observations:                   36\n",
      "Model:                          Logit   Df Residuals:                       29\n",
      "Method:                           MLE   Df Model:                            6\n",
      "Date:                Wed, 29 Jul 2020   Pseudo R-squ.:                  0.5744\n",
      "Time:                        01:50:17   Log-Likelihood:                -10.524\n",
      "converged:                       True   LL-Null:                       -24.731\n",
      "Covariance Type:            nonrobust   LLR p-value:                 7.856e-05\n",
      "====================================================================================\n",
      "                       coef    std err          z      P>|z|      [0.025      0.975]\n",
      "------------------------------------------------------------------------------------\n",
      "const                5.4055      2.196      2.462      0.014       1.102       9.709\n",
      "outlook_overcast     3.5528      1.721      2.064      0.039       0.179       6.927\n",
      "outlook_rainy       -1.6051      1.357     -1.183      0.237      -4.265       1.055\n",
      "temperature_cool    -4.3340      1.867     -2.322      0.020      -7.993      -0.675\n",
      "temperature_hot     -1.8299      1.478     -1.238      0.216      -4.727       1.067\n",
      "humidity_high       -4.3310      1.645     -2.633      0.008      -7.555      -1.107\n",
      "windy_TRUE          -2.3932      1.325     -1.807      0.071      -4.989       0.203\n",
      "====================================================================================\n"
     ]
    }
   ],
   "source": [
    "X.drop(['outlook_sunny', 'temperature_mild',\n",
    "        'humidity_normal', 'windy_FALSE'], inplace=True, axis=1)\n",
    "logit = sm.Logit(play, X)\n",
    "result = logit.fit()\n",
    "print(result.summary())"
   ]
  },
  {
   "cell_type": "code",
   "execution_count": 52,
   "metadata": {
    "scrolled": true
   },
   "outputs": [
    {
     "name": "stdout",
     "output_type": "stream",
     "text": [
      "{'outlook': 'sunny', 'temperature': 'hot', 'humidity': 'high', 'windy': 'TRUE'}\n",
      "[[1. 0. 0. 0. 1. 0. 1. 0. 0. 1.]\n",
      " [1. 0. 0. 0. 1. 0. 1. 0. 1. 0.]\n",
      " [0. 1. 0. 0. 1. 0. 1. 0. 0. 1.]\n",
      " [0. 1. 0. 0. 1. 0. 1. 0. 1. 0.]\n",
      " [1. 0. 0. 0. 1. 0. 0. 1. 0. 1.]\n",
      " [1. 0. 0. 0. 1. 0. 0. 1. 1. 0.]\n",
      " [0. 1. 0. 0. 1. 0. 0. 1. 0. 1.]\n",
      " [0. 1. 0. 0. 1. 0. 0. 1. 1. 0.]\n",
      " [1. 0. 0. 0. 1. 1. 0. 0. 0. 1.]\n",
      " [1. 0. 0. 0. 1. 1. 0. 0. 1. 0.]\n",
      " [0. 1. 0. 0. 1. 1. 0. 0. 0. 1.]\n",
      " [0. 1. 0. 0. 1. 1. 0. 0. 1. 0.]\n",
      " [1. 0. 1. 0. 0. 0. 1. 0. 0. 1.]\n",
      " [1. 0. 1. 0. 0. 0. 1. 0. 1. 0.]\n",
      " [0. 1. 1. 0. 0. 0. 1. 0. 0. 1.]\n",
      " [0. 1. 1. 0. 0. 0. 1. 0. 1. 0.]\n",
      " [1. 0. 1. 0. 0. 0. 0. 1. 0. 1.]\n",
      " [1. 0. 1. 0. 0. 0. 0. 1. 1. 0.]\n",
      " [0. 1. 1. 0. 0. 0. 0. 1. 0. 1.]\n",
      " [0. 1. 1. 0. 0. 0. 0. 1. 1. 0.]\n",
      " [1. 0. 1. 0. 0. 1. 0. 0. 0. 1.]\n",
      " [1. 0. 1. 0. 0. 1. 0. 0. 1. 0.]\n",
      " [0. 1. 1. 0. 0. 1. 0. 0. 0. 1.]\n",
      " [0. 1. 1. 0. 0. 1. 0. 0. 1. 0.]\n",
      " [1. 0. 0. 1. 0. 0. 1. 0. 0. 1.]\n",
      " [1. 0. 0. 1. 0. 0. 1. 0. 1. 0.]\n",
      " [0. 1. 0. 1. 0. 0. 1. 0. 0. 1.]\n",
      " [0. 1. 0. 1. 0. 0. 1. 0. 1. 0.]\n",
      " [1. 0. 0. 1. 0. 0. 0. 1. 0. 1.]\n",
      " [1. 0. 0. 1. 0. 0. 0. 1. 1. 0.]\n",
      " [0. 1. 0. 1. 0. 0. 0. 1. 0. 1.]\n",
      " [0. 1. 0. 1. 0. 0. 0. 1. 1. 0.]\n",
      " [1. 0. 0. 1. 0. 1. 0. 0. 0. 1.]\n",
      " [1. 0. 0. 1. 0. 1. 0. 0. 1. 0.]\n",
      " [0. 1. 0. 1. 0. 1. 0. 0. 0. 1.]\n",
      " [0. 1. 0. 1. 0. 1. 0. 0. 1. 0.]]\n"
     ]
    }
   ],
   "source": [
    "from sklearn.feature_extraction import DictVectorizer\n",
    "vectorizer = DictVectorizer(sparse=False)\n",
    "dict_representation = [{varname:var for var, varname in zip(\n",
    "                        row,['outlook', 'temperature','humidity','windy'])}\n",
    "                        for row in weather_dataset]\n",
    "print(dict_representation[0])\n",
    "print(vectorizer.fit_transform(dict_representation))"
   ]
  },
  {
   "cell_type": "code",
   "execution_count": 54,
   "metadata": {},
   "outputs": [
    {
     "name": "stdout",
     "output_type": "stream",
     "text": [
      "['humidity=high', 'humidity=normal', 'outlook=overcast', 'outlook=rainy', 'outlook=sunny', 'temperature=cool', 'temperature=hot', 'temperature=mild', 'windy=FALSE', 'windy=TRUE']\n"
     ]
    }
   ],
   "source": [
    "print(vectorizer.feature_names_)"
   ]
  },
  {
   "cell_type": "code",
   "execution_count": 56,
   "metadata": {},
   "outputs": [
    {
     "name": "stdout",
     "output_type": "stream",
     "text": [
      "[2 2 2 2 2 2 2 2 2 2 2 2 0 0 0 0 0 0 0 0 0 0 0 0 1 1 1 1 1 1 1 1 1 1 1 1]\n"
     ]
    }
   ],
   "source": [
    "from sklearn.preprocessing import LabelEncoder, LabelBinarizer\n",
    "label_encoder = LabelEncoder()\n",
    "print(label_encoder.fit_transform(df.outlook))"
   ]
  },
  {
   "cell_type": "code",
   "execution_count": 58,
   "metadata": {},
   "outputs": [
    {
     "name": "stdout",
     "output_type": "stream",
     "text": [
      "['overcast' 'rainy' 'sunny']\n",
      "['overcast' 'rainy' 'sunny']\n"
     ]
    }
   ],
   "source": [
    "print(label_encoder.inverse_transform([0,1,2]))\n",
    "print(label_encoder.classes_)"
   ]
  },
  {
   "cell_type": "code",
   "execution_count": 62,
   "metadata": {
    "scrolled": true
   },
   "outputs": [
    {
     "name": "stdout",
     "output_type": "stream",
     "text": [
      "[[0 0 1]\n",
      " [0 0 1]\n",
      " [0 0 1]\n",
      " [0 0 1]\n",
      " [0 0 1]\n",
      " [0 0 1]\n",
      " [0 0 1]\n",
      " [0 0 1]\n",
      " [0 0 1]\n",
      " [0 0 1]\n",
      " [0 0 1]\n",
      " [0 0 1]\n",
      " [1 0 0]\n",
      " [1 0 0]\n",
      " [1 0 0]\n",
      " [1 0 0]\n",
      " [1 0 0]\n",
      " [1 0 0]\n",
      " [1 0 0]\n",
      " [1 0 0]\n",
      " [1 0 0]\n",
      " [1 0 0]\n",
      " [1 0 0]\n",
      " [1 0 0]\n",
      " [0 1 0]\n",
      " [0 1 0]\n",
      " [0 1 0]\n",
      " [0 1 0]\n",
      " [0 1 0]\n",
      " [0 1 0]\n",
      " [0 1 0]\n",
      " [0 1 0]\n",
      " [0 1 0]\n",
      " [0 1 0]\n",
      " [0 1 0]\n",
      " [0 1 0]]\n"
     ]
    }
   ],
   "source": [
    "label_binarizer = LabelBinarizer(neg_label=0, pos_label=1,sparse_output=False)\n",
    "print(label_binarizer.fit_transform(label_encoder.fit_transform(df.outlook)))"
   ]
  },
  {
   "cell_type": "code",
   "execution_count": 65,
   "metadata": {},
   "outputs": [
    {
     "name": "stdout",
     "output_type": "stream",
     "text": [
      "{'약속이기': 0, '그것이': 1, '때문에': 2, '왜냐하면': 3, '음!': 4}\n"
     ]
    }
   ],
   "source": [
    "your_text = '왜냐하면 그것이 약속이기 때문에 음!'\n",
    "mapping_words_in_text = {word:position for position, word in\n",
    "                        enumerate(set(your_text.lower().split(' ')))}\n",
    "print(mapping_words_in_text)"
   ]
  },
  {
   "cell_type": "code",
   "execution_count": 79,
   "metadata": {},
   "outputs": [],
   "source": [
    "corpus = ['The Quick fox jumped over the lazy dog',\n",
    "          'I sought a dog wondering around with a bird',\n",
    "          'My dog is named Fido']"
   ]
  },
  {
   "cell_type": "code",
   "execution_count": 69,
   "metadata": {},
   "outputs": [
    {
     "name": "stdout",
     "output_type": "stream",
     "text": [
      "[[0 0 1 0 1 0 1 1 0 0 1 1 0 1 0 0]\n",
      " [1 1 1 0 0 0 0 0 0 0 0 0 1 0 1 1]\n",
      " [0 0 1 1 0 1 0 0 1 1 0 0 0 0 0 0]]\n"
     ]
    }
   ],
   "source": [
    "from sklearn.feature_extraction.text import CountVectorizer\n",
    "textual_one_hot_encoder = CountVectorizer(binary=True)\n",
    "textual_one_hot_encoder.fit(corpus)\n",
    "vectorized_text = textual_one_hot_encoder.transform(corpus)\n",
    "print(vectorized_text.todense())"
   ]
  },
  {
   "cell_type": "code",
   "execution_count": 72,
   "metadata": {},
   "outputs": [
    {
     "name": "stdout",
     "output_type": "stream",
     "text": [
      "['around', 'bird', 'dog', 'fido', 'fox', 'is', 'jumped', 'lazy', 'my', 'named', 'over', 'quick', 'sought', 'the', 'with', 'wondering']\n",
      "[[0 0 0 0 0 0 0 0 0 0 0 0 0 0 0 0]]\n"
     ]
    }
   ],
   "source": [
    "print(textual_one_hot_encoder.get_feature_names())\n",
    "print(textual_one_hot_encoder.transform(['John went home today']).todense())"
   ]
  },
  {
   "cell_type": "code",
   "execution_count": 81,
   "metadata": {},
   "outputs": [
    {
     "name": "stdout",
     "output_type": "stream",
     "text": [
      "[[1. 0. 0. 1. 1. 0. 0. 1. 0. 0. 0.]\n",
      " [0. 0. 0. 1. 0. 1. 0. 1. 1. 0. 0.]\n",
      " [0. 0. 0. 1. 0. 0. 0. 1. 1. 0. 0.]]\n"
     ]
    }
   ],
   "source": [
    "# non_negative -> alternate_sign\n",
    "from sklearn.feature_extraction.text import HashingVectorizer\n",
    "hashing_trick = HashingVectorizer(n_features=11, binary=True,\n",
    "                                 norm=None, alternate_sign=True)\n",
    "M = hashing_trick.transform(corpus)\n",
    "print(M.todense())"
   ]
  },
  {
   "cell_type": "code",
   "execution_count": 98,
   "metadata": {},
   "outputs": [
    {
     "name": "stdout",
     "output_type": "stream",
     "text": [
      "[[1. 0. 1. 1. 0. 1. 0. 1. 0. 1. 0.]]\n"
     ]
    }
   ],
   "source": [
    "print(hashing_trick.transform(['John is the owner of that dog']).todense())"
   ]
  },
  {
   "cell_type": "markdown",
   "metadata": {},
   "source": [
    "# Page 209"
   ]
  },
  {
   "cell_type": "code",
   "execution_count": 225,
   "metadata": {},
   "outputs": [
    {
     "name": "stdout",
     "output_type": "stream",
     "text": [
      "['CRIM' 'ZN' 'INDUS' 'CHAS' 'NOX' 'RM' 'AGE' 'DIS' 'RAD' 'TAX' 'PTRATIO'\n",
      " 'B' 'LSTAT']\n"
     ]
    }
   ],
   "source": [
    "import numpy as np\n",
    "boston = load_boston()\n",
    "labels = boston.feature_names\n",
    "X = boston.data\n",
    "y = boston.target\n",
    "print(boston.feature_names)"
   ]
  },
  {
   "cell_type": "code",
   "execution_count": 226,
   "metadata": {},
   "outputs": [
    {
     "data": {
      "text/plain": [
       "LinearRegression()"
      ]
     },
     "execution_count": 226,
     "metadata": {},
     "output_type": "execute_result"
    }
   ],
   "source": [
    "linear_regression = linear_model.LinearRegression(fit_intercept=True)\n",
    "linear_regression.fit(X,y)"
   ]
  },
  {
   "cell_type": "code",
   "execution_count": 227,
   "metadata": {},
   "outputs": [
    {
     "name": "stdout",
     "output_type": "stream",
     "text": [
      "R-squared  0.741\n"
     ]
    }
   ],
   "source": [
    "from sklearn.metrics import r2_score\n",
    "print(\"R-squared  %0.3f\" % r2_score(y, linear_regression.predict(X)))"
   ]
  },
  {
   "cell_type": "code",
   "execution_count": 228,
   "metadata": {},
   "outputs": [
    {
     "name": "stdout",
     "output_type": "stream",
     "text": [
      "Head of residual : [-6.00384 -3.42556  4.1324   4.79296  8.25648]\n",
      "Mean of residual : 0.000\n",
      "Standard deviation of residuals : 4.679\n"
     ]
    }
   ],
   "source": [
    "residuals = y - linear_regression.predict(X)\n",
    "print(\"Head of residual : %s\" % residuals[:5])\n",
    "print(\"Mean of residual : %0.3f\" % np.mean(residuals))\n",
    "print(\"Standard deviation of residuals : %0.3f\" % np.std(residuals))"
   ]
  },
  {
   "cell_type": "code",
   "execution_count": 229,
   "metadata": {},
   "outputs": [
    {
     "data": {
      "image/png": "[encoded data removed]",
      "text/plain": [
       "<Figure size 432x288 with 1 Axes>"
      ]
     },
     "metadata": {
      "needs_background": "light"
     },
     "output_type": "display_data"
    }
   ],
   "source": [
    "var = 7\n",
    "partial_residual = residual + X[:, var] * linear_regression.coef_[var]\n",
    "plt.plot(X[:,var], partial_residual, 'o')\n",
    "plt.xlabel(boston.feature_names[var])\n",
    "plt.ylabel('partial residuals')\n",
    "plt.show()"
   ]
  },
  {
   "cell_type": "code",
   "execution_count": 230,
   "metadata": {},
   "outputs": [
    {
     "data": {
      "image/png": "[encoded data removed]",
      "text/plain": [
       "<Figure size 432x288 with 1 Axes>"
      ]
     },
     "metadata": {
      "needs_background": "light"
     },
     "output_type": "display_data"
    },
    {
     "name": "stdout",
     "output_type": "stream",
     "text": [
      "R-squared : 0.341\n"
     ]
    }
   ],
   "source": [
    "X_t = X.copy()\n",
    "X_t[:,var] = 1./np.sqrt(X_t[:,var])\n",
    "linear_residual = residuals + X_t[:,var] * linear_regression.coef_[var]\n",
    "plt.plot(X_t[:,var], partial_residual, 'o')\n",
    "plt.xlabel(boston.feature_names[var])\n",
    "plt.ylabel('partial residuals')\n",
    "plt.show()\n",
    "print(\"R-squared : %0.3f\" %r2_score(y, linear_regression.predict(X_t)))"
   ]
  },
  {
   "cell_type": "code",
   "execution_count": 231,
   "metadata": {},
   "outputs": [
    {
     "name": "stdout",
     "output_type": "stream",
     "text": [
      "R-squared : 0.768\n"
     ]
    }
   ],
   "source": [
    "import numpy as np\n",
    "from sklearn.preprocessing import LabelBinarizer\n",
    "LB = LabelBinarizer()\n",
    "X_t = X.copy()\n",
    "edges = np.histogram(X_t[:,var], bins=20)[1]\n",
    "binning = np.digitize(X_t[:,var], edges)\n",
    "X_t = np.column_stack((np.delete(X_t, var, axis=1),LB.fit_transform(binning)))\n",
    "linear_regression.fit(X_t,y)\n",
    "print(\"R-squared : %0.3f\" %r2_score(y, linear_regression.predict(X_t)))"
   ]
  },
  {
   "cell_type": "markdown",
   "metadata": {},
   "source": [
    "# Page 215"
   ]
  },
  {
   "cell_type": "code",
   "execution_count": 200,
   "metadata": {},
   "outputs": [
    {
     "name": "stdout",
     "output_type": "stream",
     "text": [
      "[ 1.  2. nan  4.  5.]\n",
      "[False False  True False False]\n",
      "[1. 2. 0. 4. 5.]\n"
     ]
    }
   ],
   "source": [
    "import numpy as np\n",
    "example = np.array([1,2,np.nan,4,5])\n",
    "print(example)\n",
    "print(np.isnan(example))\n",
    "print(np.nan_to_num(example))"
   ]
  },
  {
   "cell_type": "code",
   "execution_count": 201,
   "metadata": {},
   "outputs": [
    {
     "name": "stdout",
     "output_type": "stream",
     "text": [
      "[1. 2. 3. 4. 5.]\n"
     ]
    }
   ],
   "source": [
    "missing = np.isnan(example)\n",
    "replacing_value = np.mean(example[~missing])\n",
    "example[missing] = replacing_value\n",
    "print(example)"
   ]
  },
  {
   "cell_type": "code",
   "execution_count": 202,
   "metadata": {
    "scrolled": true
   },
   "outputs": [
    {
     "name": "stdout",
     "output_type": "stream",
     "text": [
      "Header of Xm[:,5] : [6.575   nan 7.185   nan 7.147 6.43  6.012 6.172   nan 6.004]\n"
     ]
    }
   ],
   "source": [
    "from random import sample, seed\n",
    "import numpy as np\n",
    "seed(19)\n",
    "Xm = X.copy()\n",
    "missing = sample(range(len(y)), len(y)//4)\n",
    "Xm[missing,5] = np.nan\n",
    "print(\"Header of Xm[:,5] : %s\" % Xm[:10,5])"
   ]
  },
  {
   "cell_type": "markdown",
   "metadata": {},
   "source": [
    "바뀐부분 많음, Imputer -> SimpleImputer"
   ]
  },
  {
   "cell_type": "code",
   "execution_count": 218,
   "metadata": {},
   "outputs": [
    {
     "name": "stdout",
     "output_type": "stream",
     "text": [
      "(506, 13)\n",
      "Header of imputed Xm[:,5] : [ 6.575   63.27278  7.185   57.98355  7.147    6.43     6.012    6.172\n",
      " 72.91228  6.004  ]\n"
     ]
    }
   ],
   "source": [
    "from sklearn.impute import SimpleImputer\n",
    "from sklearn.preprocessing import FunctionTransformer\n",
    "print(Xm.shape)\n",
    "impute = SimpleImputer(missing_values = np.nan, strategy='mean')\n",
    "imputed_X = impute.fit_transform(Xm.T).T\n",
    "print(\"Header of imputed Xm[:,5] : %s\" % imputed_X[:,5][:10])"
   ]
  },
  {
   "cell_type": "code",
   "execution_count": 204,
   "metadata": {},
   "outputs": [
    {
     "name": "stdout",
     "output_type": "stream",
     "text": [
      "Header of missing indicator : [0 1 0 1 0 0 0 0 1 0]\n"
     ]
    }
   ],
   "source": [
    "missing_indicator = np.isnan(Xm[:,5]).astype(int)\n",
    "print(\"Header of missing indicator : %s\" %missing_indicator[:10])"
   ]
  },
  {
   "cell_type": "code",
   "execution_count": 242,
   "metadata": {},
   "outputs": [],
   "source": [
    "boston = load_boston()\n",
    "dataset = pd.DataFrame(boston.data, columns=boston.feature_names)\n",
    "labels = boston.feature_names\n",
    "X = dataset\n",
    "y = boston.target"
   ]
  },
  {
   "cell_type": "code",
   "execution_count": 206,
   "metadata": {
    "scrolled": true
   },
   "outputs": [
    {
     "data": {
      "image/png": "[encoded data removed]",
      "text/plain": [
       "<Figure size 432x288 with 1 Axes>"
      ]
     },
     "metadata": {
      "needs_background": "light"
     },
     "output_type": "display_data"
    }
   ],
   "source": [
    "plt.boxplot(y,labels=('y'))\n",
    "plt.show()"
   ]
  },
  {
   "cell_type": "code",
   "execution_count": 207,
   "metadata": {},
   "outputs": [],
   "source": [
    "# 메소드 추가, predict(X) -> fit(X,y).predict(X)\n",
    "def standardize(x) : \n",
    "    return (x-np.mean(x))/np.std(x)"
   ]
  },
  {
   "cell_type": "code",
   "execution_count": 252,
   "metadata": {
    "scrolled": false
   },
   "outputs": [
    {
     "data": {
      "image/png": "[encoded data removed]",
      "text/plain": [
       "<Figure size 432x288 with 1 Axes>"
      ]
     },
     "metadata": {
      "needs_background": "light"
     },
     "output_type": "display_data"
    }
   ],
   "source": [
    "scatter = plt.plot(linear_regression.fit(X,y).predict(X), standardize(residuals), 'o')\n",
    "plt.plot([-10,50],[0,0],\"r-\")\n",
    "plt.plot([-10,50],[3,3],\"r--\")\n",
    "plt.plot([-10,50],[-3,-3],\"r--\")\n",
    "plt.xlabel('fitted values')\n",
    "plt.ylabel('standardized residuals')\n",
    "plt.show()"
   ]
  },
  {
   "cell_type": "code",
   "execution_count": 253,
   "metadata": {},
   "outputs": [
    {
     "data": {
      "image/png": "[encoded data removed]",
      "text/plain": [
       "<Figure size 432x288 with 1 Axes>"
      ]
     },
     "metadata": {
      "needs_background": "light"
     },
     "output_type": "display_data"
    }
   ],
   "source": [
    "standarization = StandardScaler(with_mean=True, with_std=True)\n",
    "Xs = standarization.fit_transform(X)\n",
    "boxplot = plt.boxplot(Xs[:,0:7],labels=labels[0:7])"
   ]
  },
  {
   "cell_type": "code",
   "execution_count": 254,
   "metadata": {},
   "outputs": [
    {
     "data": {
      "image/png": "[encoded data removed]",
      "text/plain": [
       "<Figure size 432x288 with 1 Axes>"
      ]
     },
     "metadata": {
      "needs_background": "light"
     },
     "output_type": "display_data"
    }
   ],
   "source": [
    "boxplot = plt.boxplot(Xs[:,7:13],labels=labels[7:13])"
   ]
  },
  {
   "cell_type": "code",
   "execution_count": 255,
   "metadata": {},
   "outputs": [
    {
     "name": "stdout",
     "output_type": "stream",
     "text": [
      "[0.4713  0.11025 0.09559 0.06597 0.06422 0.05057 0.04118 0.03047 0.0213\n",
      " 0.01694 0.01431 0.01302 0.00489]\n"
     ]
    }
   ],
   "source": [
    "from sklearn.decomposition import PCA\n",
    "pca = PCA()\n",
    "pca.fit(Xs)\n",
    "C = pca.transform(Xs)\n",
    "print(pca.explained_variance_ratio_)"
   ]
  },
  {
   "cell_type": "code",
   "execution_count": 262,
   "metadata": {},
   "outputs": [
    {
     "data": {
      "image/png": "[encoded data removed]",
      "text/plain": [
       "<Figure size 432x288 with 1 Axes>"
      ]
     },
     "metadata": {
      "needs_background": "light"
     },
     "output_type": "display_data"
    }
   ],
   "source": [
    "import numpy as np\n",
    "import matplotlib.pyplot as plt\n",
    "explained_variance = pca.explained_variance_ratio_\n",
    "plt.title('Portion of explianed variance by component')\n",
    "range_ = [r+1 for r in range(len(explained_variance))]\n",
    "plt.bar(range_,explained_variance,color='b',alpha=0.4,align=\"center\")\n",
    "plt.plot(range_,explained_variance,'ro-')\n",
    "for pos,pct in enumerate(explained_variance) : \n",
    "    plt.annotate(str(round(pct,2)), (pos+1,pct+0.007))\n",
    "plt.xticks(range_)\n",
    "plt.show()"
   ]
  },
  {
   "cell_type": "code",
   "execution_count": 265,
   "metadata": {},
   "outputs": [
    {
     "data": {
      "text/plain": [
       "Text(0, 0.5, 'Dimentsion 2')"
      ]
     },
     "execution_count": 265,
     "metadata": {},
     "output_type": "execute_result"
    },
    {
     "data": {
      "image/png": "[encoded data removed]",
      "text/plain": [
       "<Figure size 432x288 with 1 Axes>"
      ]
     },
     "metadata": {
      "needs_background": "light"
     },
     "output_type": "display_data"
    }
   ],
   "source": [
    "scatter = plt.scatter(C[:,0], C[:,1], facecolors='none', edgecolors='black')\n",
    "plt.xlabel('Dimentsion 1')\n",
    "plt.ylabel('Dimentsion 2')"
   ]
  },
  {
   "cell_type": "code",
   "execution_count": 266,
   "metadata": {},
   "outputs": [
    {
     "data": {
      "text/plain": [
       "Text(0, 0.5, 'Dimentsion 3')"
      ]
     },
     "execution_count": 266,
     "metadata": {},
     "output_type": "execute_result"
    },
    {
     "data": {
      "image/png": "[encoded data removed]",
      "text/plain": [
       "<Figure size 432x288 with 1 Axes>"
      ]
     },
     "metadata": {
      "needs_background": "light"
     },
     "output_type": "display_data"
    }
   ],
   "source": [
    "scatter = plt.scatter(C[:,0], C[:,2], facecolors='none', edgecolors='black')\n",
    "plt.xlabel('Dimentsion 1')\n",
    "plt.ylabel('Dimentsion 3')"
   ]
  }
 ],
 "metadata": {
  "kernelspec": {
   "display_name": "Python 3",
   "language": "python",
   "name": "python3"
  },
  "language_info": {
   "codemirror_mode": {
    "name": "ipython",
    "version": 3
   },
   "file_extension": ".py",
   "mimetype": "text/x-python",
   "name": "python",
   "nbconvert_exporter": "python",
   "pygments_lexer": "ipython3",
   "version": "3.8.3"
  }
 },
 "nbformat": 4,
 "nbformat_minor": 4
}
